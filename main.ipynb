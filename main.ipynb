{
 "cells": [
  {
   "cell_type": "code",
   "execution_count": 2,
   "id": "initial_id",
   "metadata": {
    "collapsed": true,
    "ExecuteTime": {
     "end_time": "2024-05-12T18:09:43.969621700Z",
     "start_time": "2024-05-12T18:09:43.887440700Z"
    }
   },
   "outputs": [],
   "source": [
    "import os\n",
    "from dotenv import load_dotenv\n",
    "\n",
    "load_dotenv()\n",
    "\n",
    "# API KEY\n",
    "OPENAI_API_KEY = os.getenv('OPENAI_API_KEY')\n",
    "PINECONE_API_KEY = os.getenv('PINECONE_API_KEY')"
   ]
  },
  {
   "cell_type": "code",
   "execution_count": 3,
   "outputs": [],
   "source": [
    "from pinecone import Pinecone\n",
    "from langchain_pinecone import PineconeVectorStore\n",
    "pc = Pinecone(api_key=PINECONE_API_KEY)\n",
    "\n",
    "index_name = 'llm-chatbot-gpt'"
   ],
   "metadata": {
    "collapsed": false,
    "ExecuteTime": {
     "end_time": "2024-05-12T18:09:46.050961100Z",
     "start_time": "2024-05-12T18:09:44.125878200Z"
    }
   },
   "id": "818f2ba8b5c9b2b8"
  },
  {
   "cell_type": "code",
   "execution_count": 4,
   "outputs": [
    {
     "name": "stderr",
     "output_type": "stream",
     "text": [
      "C:\\Users\\Dell\\DataspellProjects\\llm-chatbot\\lib\\site-packages\\langchain_core\\_api\\deprecation.py:119: LangChainDeprecationWarning: The class `OpenAIEmbeddings` was deprecated in LangChain 0.0.9 and will be removed in 0.2.0. An updated version of the class exists in the langchain-openai package and should be used instead. To use it run `pip install -U langchain-openai` and import as `from langchain_openai import OpenAIEmbeddings`.\n",
      "  warn_deprecated(\n"
     ]
    }
   ],
   "source": [
    "from langchain_community.embeddings.openai import OpenAIEmbeddings\n",
    "from openai import OpenAI\n",
    "from IPython.display import Markdown\n",
    "\n",
    "embedding = OpenAIEmbeddings(openai_api_key = OPENAI_API_KEY)\n",
    "# client = AsyncOpenAI(api_key=OPENAI_API_KEY)\n",
    "client = OpenAI()"
   ],
   "metadata": {
    "collapsed": false,
    "ExecuteTime": {
     "end_time": "2024-05-12T18:09:48.243800300Z",
     "start_time": "2024-05-12T18:09:46.050961100Z"
    }
   },
   "id": "d5c3ee5df3f3be77"
  },
  {
   "cell_type": "code",
   "execution_count": 5,
   "outputs": [],
   "source": [
    "pVS = PineconeVectorStore(\n",
    "    index_name=index_name,\n",
    "    embedding=embedding\n",
    ")"
   ],
   "metadata": {
    "collapsed": false,
    "ExecuteTime": {
     "end_time": "2024-05-12T18:09:48.998416500Z",
     "start_time": "2024-05-12T18:09:48.250748700Z"
    }
   },
   "id": "1076e80c7447b1fc"
  },
  {
   "cell_type": "code",
   "execution_count": 8,
   "outputs": [],
   "source": [
    "primer3 = f\"\"\"Bây giờ bạn hãy đóng vai trò là một luật sư xuất sắc về luật hôn nhân và gia đình ở Việt Nam.\n",
    "Tôi sẽ hỏi bạn các câu hỏi về tình huống thực tế liên quan tới luật hôn nhân và gia đình. Bạn hãy tóm tắt tình huống\n",
    "và đea ra các câu hỏi ngắn gọn gồm từ khoá liên quan tới pháp luật được suy luận từ phần thông tin có trong tình huống. Các câu trả lời của bạn\n",
    "đều là tiếng việt.\n",
    "\n",
    "Sau đây là một số ví dụ và phần tóm tắt:\n",
    "1. Tình huống: Biết mình đủ tuổi kết hôn và đáp ứng các điều kiện kết hôn, Anh S và chị Y dự định đi đăng ký kết hôn trước khi tổ chức lễ cưới 02 tháng. Chị Y và anh S có hộ khẩu thường trú ở hai tỉnh khác nhau, anh chị muốn biết việc đăng ký kết hôn thực hiện tại cơ quan nào và cần thực hiện thủ tục gì?\n",
    "-> Tóm tắt: Thủ tục đăng ký kết hôn là gì, hộ khẩu thường trú trong thủ tục kết hôn\n",
    "\n",
    "2. Ông bà B có con trai đã 25 tuổi, bị bệnh đao bẩm sinh. Vì muốn lấy vợ cho con trai, bà B đã tìm cách vu cáo cho chị Y – người giúp việc lấy trộm số tiền 1.000.000 đồng. Bà B  đe dọa nếu chị Y không muốn bị báo công an, không muốn bị đi tù thì phải lấy con trai bà, vừa được làm chủ nhà, không phải làm người giúp việc lại có cuộc sống sung túc. Vì nhận thức hạn chế, trình độ văn hóa thấp nên chị Y đã đồng ý lấy con trai bà B. Hôn lễ chỉ tổ chức giữa hai gia đình mà không làm thủ tục đăng ký kết hôn tại phường. Việc làm của bà B có vi phạm pháp luật không? Nếu có thì bị xử phạt như thế nào?\n",
    "-> Tóm tắt: cưỡng ép kết hôn có bị xử phạt không, cưỡng ép kết hôn bị xử phạt như thế nào \n",
    "\n",
    "3. Tôi đã kết hôn được 6 tháng, nhưng chưa chuyển hộ khẩu về nhà chồng (ở xã X, huyện B, tỉnh A), hộ khẩu của tôi vẫn đang ở nhà bố mẹ đẻ (xã Y, huyện C, tỉnh D). Nay tôi có nguyện vọng chuyển hộ khẩu về nhà chồng thì có được không và thủ tục thực hiện như thế nào? Ai có thẩm quyền giải quyết?\n",
    "-> tóm tắt: có được chuyển hộ khẩu về nhà chồng không, Thủ tục chuyển hộ khẩu, Ai giải quyết thủ tục chuyển hộ khẩu\n",
    "\"\"\"\n",
    "\n",
    "primer1 = f\"\"\"Bây giờ bạn hãy đóng vai trò là một luật sư xuất sắc về luật hôn nhân và gia đình ở Việt Nam.\n",
    "Tôi sẽ hỏi bạn các câu hỏi về tình huống thực tế liên quan tới luật hôn nhân và gia đình. Bạn sẽ trả lời câu hỏi\n",
    "hoàn toàn dựa trên thông tin tôi cung cấp và thông tin có trong câu hỏi. Nếu thông tin tôi cung cấp không đủ để trả lời\n",
    "hãy nói rằng 'Tôi không biết'. Các câu trả lời của bạn đều là tiếng việt. \n",
    "Lưu ý: Nêu rõ điều luật số mấy để trả lời tình huống.\n",
    "\"\"\""
   ],
   "metadata": {
    "collapsed": false,
    "ExecuteTime": {
     "end_time": "2024-05-12T18:10:51.139897Z",
     "start_time": "2024-05-12T18:10:51.077302400Z"
    }
   },
   "id": "a16622b131b42255"
  },
  {
   "cell_type": "code",
   "execution_count": 11,
   "outputs": [],
   "source": [
    "primer2 = f\"\"\"Bây giờ bạn hãy đóng vai trò là một luật sư xuất sắc về luật hôn nhân và gia đình ở Việt Nam.\n",
    "Tôi sẽ hỏi bạn các câu hỏi về tình huống thực tế liên quan tới luật hôn nhân và gia đình. Bạn sẽ trả lời câu hỏi\n",
    "hoàn toàn dựa trên thông tin tôi cung cấp và thông tin có trong câu hỏi. Nếu thông tin tôi cung cấp không đủ để trả lời\n",
    "hãy nói rằng 'Tôi không biết'. Các câu trả lời của bạn đều là tiếng việt. \n",
    "Lưu ý: Nêu rõ điều luật số mấy để trả lời tình huống. Bạn không được sử dụng thông tin bên ngoài, chỉ sử dụng thông tin có trong câu hỏi của tôi.\n",
    "\"\"\""
   ],
   "metadata": {
    "collapsed": false,
    "ExecuteTime": {
     "end_time": "2024-05-12T18:19:30.457550900Z",
     "start_time": "2024-05-12T18:19:30.426293900Z"
    }
   },
   "id": "ba860a756d7b41be"
  },
  {
   "cell_type": "code",
   "execution_count": 6,
   "outputs": [
    {
     "name": "stdout",
     "output_type": "stream",
     "text": [
      "2024-05-11 19:50:25 - Loaded .env file\n"
     ]
    }
   ],
   "source": [
    "import chainlit as cl\n",
    "\n",
    "@cl.on_message\n",
    "async def main(mess):\n",
    "    query = str(mess.content)\n",
    "    chats = client.chat.completions.create(\n",
    "        model=\"gpt-3.5-turbo\",\n",
    "        messages=[\n",
    "            {\"role\": \"system\", \"content\": primer3},\n",
    "            {\"role\": \"user\", \"content\": query}\n",
    "        ]\n",
    "    )\n",
    "    \n",
    "    new_query = chats.choices[0].message.content\n",
    "    context = \"\"\n",
    "\n",
    "    texts = new_query.split(',')\n",
    "    \n",
    "    for text in texts:\n",
    "        print(text)\n",
    "        relevant_docs = pVS.similarity_search(query=text, k=1)\n",
    "    \n",
    "        context += relevant_docs[0].page_content\n",
    "\n",
    "    relevant_docs = pVS.similarity_search(query=query, k=1)\n",
    "    context += relevant_docs[0].page_content\n",
    "    context += \"\\n\" + query\n",
    "\n",
    "    chats = client.chat.completions.create(\n",
    "        model=\"gpt-3.5-turbo\",\n",
    "        messages=[\n",
    "            {\"role\": \"system\", \"content\": primer1},\n",
    "            {\"role\": \"user\", \"content\": context}\n",
    "        ]\n",
    "    )\n",
    "\n",
    "    # display(Markdown(chats.choices[0].message.content))\n",
    "    await cl.Message(content=chats.choices[0].message.content).send()"
   ],
   "metadata": {
    "collapsed": false,
    "ExecuteTime": {
     "end_time": "2024-05-11T12:50:26.746784400Z",
     "start_time": "2024-05-11T12:50:24.423906200Z"
    }
   },
   "id": "44f1e0ff2292727d"
  },
  {
   "cell_type": "code",
   "execution_count": 12,
   "outputs": [],
   "source": [
    "def qa(query):\n",
    "    res = []\n",
    "\n",
    "    chat_compl = client.chat.completions.create(\n",
    "        messages=[\n",
    "            {\n",
    "                'role': 'user',\n",
    "                'content': query\n",
    "            }\n",
    "        ],\n",
    "        model='gpt-3.5-turbo'\n",
    "    )\n",
    "    res.append(chat_compl.choices[0].message.content)\n",
    "    \n",
    "    chats = client.chat.completions.create(\n",
    "        model=\"gpt-3.5-turbo\",\n",
    "        messages=[\n",
    "            {\"role\": \"system\", \"content\": primer3},\n",
    "            {\"role\": \"user\", \"content\": query}\n",
    "        ]\n",
    "    )\n",
    "\n",
    "    new_query = chats.choices[0].message.content\n",
    "    res.append(new_query)\n",
    "    context = \"\"\n",
    "\n",
    "    texts = new_query.split(',')\n",
    "\n",
    "    for text in texts:\n",
    "        # print(text)\n",
    "        relevant_docs = pVS.similarity_search(query=text, k=1)\n",
    "\n",
    "        context += relevant_docs[0].page_content\n",
    "\n",
    "    relevant_docs = pVS.similarity_search(query=query, k=1)\n",
    "    res.append(relevant_docs[0].page_content)\n",
    "    context += relevant_docs[0].page_content\n",
    "    context += \"\\n\" + query\n",
    "    res.append(context)\n",
    "\n",
    "    chats = client.chat.completions.create(\n",
    "        model=\"gpt-3.5-turbo\",\n",
    "        messages=[\n",
    "            {\"role\": \"system\", \"content\": primer2},\n",
    "            {\"role\": \"user\", \"content\": context}\n",
    "        ]\n",
    "    ) \n",
    "    \n",
    "    res.append(chats.choices[0].message.content)\n",
    "    return res"
   ],
   "metadata": {
    "collapsed": false,
    "ExecuteTime": {
     "end_time": "2024-05-12T18:19:39.253872500Z",
     "start_time": "2024-05-12T18:19:39.206998300Z"
    }
   },
   "id": "7eb6deadb8748680"
  },
  {
   "cell_type": "code",
   "execution_count": 7,
   "outputs": [],
   "source": [
    "import time\n",
    "import pandas as pd"
   ],
   "metadata": {
    "collapsed": false,
    "ExecuteTime": {
     "end_time": "2024-05-12T06:34:09.974957Z",
     "start_time": "2024-05-12T06:34:08.270112Z"
    }
   },
   "id": "17d3cce535361a7e"
  },
  {
   "cell_type": "code",
   "execution_count": 8,
   "outputs": [],
   "source": [
    "import pandas as pd\n",
    "\n",
    "cols = ['question', 'answer', 'gpt_answer', 'summary', 'context', 'enhanced_context', 'enhanced_answer']\n",
    "\n",
    "dict = {}\n",
    "for col in cols:\n",
    "    dict[col] = []\n",
    "    \n",
    "df = pd.DataFrame(dict)"
   ],
   "metadata": {
    "collapsed": false,
    "ExecuteTime": {
     "end_time": "2024-05-12T06:34:09.993588900Z",
     "start_time": "2024-05-12T06:34:09.977954100Z"
    }
   },
   "id": "5cc1ff5d491b37fa"
  },
  {
   "cell_type": "code",
   "execution_count": 9,
   "outputs": [],
   "source": [
    "df = pd.read_csv('./result.csv')"
   ],
   "metadata": {
    "collapsed": false,
    "ExecuteTime": {
     "end_time": "2024-05-12T06:34:11.555915400Z",
     "start_time": "2024-05-12T06:34:11.464411300Z"
    }
   },
   "id": "3c8b7b875482a7b7"
  },
  {
   "cell_type": "code",
   "execution_count": 10,
   "outputs": [
    {
     "data": {
      "text/plain": "                                             question  \\\n0   Câu 1. Tôi có thể kết hôn với cháu ruột của th...   \n1   Câu 2. Anh J và chị O học tiểu học cùng nhau, ...   \n2   Câu 3. Ông bà B có con trai đã 25 tuổi, bị bện...   \n3   Câu 4. Sau khi kết hôn, vợ chồng tôi sinh được...   \n4   Câu 5. Tảo hôn và tổ chức tảo hôn là gì? Hành ...   \n..                                                ...   \n59  Câu 10. Từ năm 2010, quan hệ vợ chồng anh Cao ...   \n60  Câu 11. Năm 1993, mẹ con anh M được giao 02 th...   \n61  Câu 12. Vợ chồng tôi kết hôn năm 1998. Năm 200...   \n62  Câu 13. Năm 2010, vợ chồng tôi có mua 150 m2 đ...   \n63  Câu 14. Sau khi lấy chồng, tôi nghỉ phụ việc b...   \n\n                                               answer  \\\n0   Trả lời:\\nTheo Luật hôn nhân và gia đình năm 2...   \n1   Trả lời:  \\nTheo Khoản 11 Điều 3 Luật hôn nhân...   \n2   Trả lời:\\nTheo quy định tại Khoản 9 Điều 3 Luậ...   \n3   Trả lời:\\nLuật hôn nhân và gia đình năm 2014 c...   \n4   Trả lời:\\nTảo hôn là việc lấy vợ, lấy chồng kh...   \n..                                                ...   \n59  Trả lời:\\nTheo quy định tại Khoản 1 Điều 33 Lu...   \n60  Trả lời:\\nTheo các dữ liệu nêu trên, có thể xá...   \n61  Trả lời:\\nTheo quy định tại Khoản 1 Điều 33 Lu...   \n62  Trả lời:\\nTheo quy định của pháp luật thì vợ c...   \n63  Trả lời:\\nTheo quy định của pháp luật thì tài ...   \n\n                                           gpt_answer  \\\n0   Không, việc kết hôn với người có quan hệ huyết...   \n1   Trong trường hợp này, việc kết hôn chỉ để nhằm...   \n2   Theo pháp luật Việt Nam, việc bà B tìm cách vu...   \n3   Đầu tiên, bạn cần trò chuyện trực tiếp và thẳn...   \n4   Tảo hôn là hành vi thể hiện tình cảm, tình yêu...   \n..                                                ...   \n59  Khi ly hôn, tài sản chung của vợ chồng anh Cao...   \n60  Theo quy định của pháp luật, tài sản chung của...   \n61  Theo luật hôn nhân không có sự sắp xếp khác nà...   \n62  Theo pháp luật Việt Nam, khi ly hôn, tài sản đ...   \n63  Quan điểm của chồng bạn không chính xác. Theo ...   \n\n                                              summary  \\\n0   Tóm tắt: Hôn nhân họ hàng ruột, có thể kết hôn...   \n1   Tóm tắt: Hợp đồng hôn nhân, nghiêm cấm hôn nhâ...   \n2   - Cưỡng ép kết hôn có bị xử phạt không?\\n- Cưỡ...   \n3   Tóm tắt: Chồng có quan hệ ngoại tình, làm thủ ...   \n4   Tảo hôn là việc một trong hai bên trong một mố...   \n..                                                ...   \n59  Tóm tắt: Xác định tài sản chung khi ly hôn, tà...   \n60  Tóm tắt: Tài sản chung của vợ chồng, ly hôn và...   \n61  Tóm tắt: Di chúc trong tài sản chung của vợ ch...   \n62  Tóm tắt: Xác định giá trị tài sản khi ly hôn, ...   \n63  Tóm tắt: Chia tài sản khi ly hôn, quyền nuôi c...   \n\n                                              context  \\\n0   Điều 114. Nghĩa vụ cấp dưỡng giữa cô, dì, chú,...   \n1   Điều 14. Giải quyết hậu quả của việ c nam, nữ ...   \n2   Điều 85. Hạn chế quyền của cha, mẹ đối với con...   \n3   Điều 14. Giải quyết hậu quả của việ c nam, nữ ...   \n4   Điều 58. Hành vi tảo hôn, tổ chức tảo hôn  \\n1...   \n..                                                ...   \n59  Điều 15. Xác định tài sản của vợ chồng theo th...   \n60  Điều 62. Chia quyền sử dụng đất của vợ chồng k...   \n61  Điều 64. Chia tài sản chung của vợ chồng đưa v...   \n62  Điều 62. Chia quyền sử dụng đất của vợ chồng k...   \n63  Điều 81. Việc trông nom, chăm sóc, nuôi dưỡng,...   \n\n                                     enhanced_context  \\\n0   Điều 2. Giải thích từ ngữ  \\nTrong Nghị định n...   \n1   Điều 124. Hợp pháp  hóa lãnh sự giấy tờ, tài l...   \n2   Điều 9. Đăng ký kết hôn  \\n1. Việc kết hôn phả...   \n3   Điều 16. Giải quyết quan hệ tài sản, nghĩa vụ ...   \n4   Điều 3. Giải thích từ ngữ  \\n1. Hôn nhân  là q...   \n..                                                ...   \n59  Điều 15. Xác định tài sản của vợ chồng theo th...   \n60  Điều 33. Tài sản chung của vợ chồng  \\n1. Tài ...   \n61  Điều 64. Chia tài sản chung của vợ chồng đưa v...   \n62  Điều 47. Thỏa thuận xác lập chế đ ộ tài sản củ...   \n63  Điều 42. Chia tài sản chung trong thời kỳ hôn ...   \n\n                                      enhanced_answer  \n0   Theo Điều 110 của Bộ luật Dân sự số 91/2015/QH...  \n1   Theo Điều 5 Luật Hôn nhân và Gia đình, việc kế...  \n2   Theo Điều 9 của Bộ luật Dân sự của Việt Nam, v...  \n3   Theo điều 12 của Bộ luật Dân sự Việt Nam, khi ...  \n4   Theo Điều 5 của Luật Hôn nhân và Gia đình năm ...  \n..                                                ...  \n59  Theo Điều 33 của Luật Hôn nhân và gia đình, tà...  \n60  Theo quy định của Luật Hôn nhân và Gia đình số...  \n61  Theo Điều 32 của Bộ luật Dân sự số 33/2005/QH1...  \n62  Theo Điều 61 của Luật Hôn nhân và Gia đình số ...  \n63  Theo Luật Hôn nhân và Gia đình nước ta, tài sả...  \n\n[64 rows x 7 columns]",
      "text/html": "<div>\n<style scoped>\n    .dataframe tbody tr th:only-of-type {\n        vertical-align: middle;\n    }\n\n    .dataframe tbody tr th {\n        vertical-align: top;\n    }\n\n    .dataframe thead th {\n        text-align: right;\n    }\n</style>\n<table border=\"1\" class=\"dataframe\">\n  <thead>\n    <tr style=\"text-align: right;\">\n      <th></th>\n      <th>question</th>\n      <th>answer</th>\n      <th>gpt_answer</th>\n      <th>summary</th>\n      <th>context</th>\n      <th>enhanced_context</th>\n      <th>enhanced_answer</th>\n    </tr>\n  </thead>\n  <tbody>\n    <tr>\n      <th>0</th>\n      <td>Câu 1. Tôi có thể kết hôn với cháu ruột của th...</td>\n      <td>Trả lời:\\nTheo Luật hôn nhân và gia đình năm 2...</td>\n      <td>Không, việc kết hôn với người có quan hệ huyết...</td>\n      <td>Tóm tắt: Hôn nhân họ hàng ruột, có thể kết hôn...</td>\n      <td>Điều 114. Nghĩa vụ cấp dưỡng giữa cô, dì, chú,...</td>\n      <td>Điều 2. Giải thích từ ngữ  \\nTrong Nghị định n...</td>\n      <td>Theo Điều 110 của Bộ luật Dân sự số 91/2015/QH...</td>\n    </tr>\n    <tr>\n      <th>1</th>\n      <td>Câu 2. Anh J và chị O học tiểu học cùng nhau, ...</td>\n      <td>Trả lời:  \\nTheo Khoản 11 Điều 3 Luật hôn nhân...</td>\n      <td>Trong trường hợp này, việc kết hôn chỉ để nhằm...</td>\n      <td>Tóm tắt: Hợp đồng hôn nhân, nghiêm cấm hôn nhâ...</td>\n      <td>Điều 14. Giải quyết hậu quả của việ c nam, nữ ...</td>\n      <td>Điều 124. Hợp pháp  hóa lãnh sự giấy tờ, tài l...</td>\n      <td>Theo Điều 5 Luật Hôn nhân và Gia đình, việc kế...</td>\n    </tr>\n    <tr>\n      <th>2</th>\n      <td>Câu 3. Ông bà B có con trai đã 25 tuổi, bị bện...</td>\n      <td>Trả lời:\\nTheo quy định tại Khoản 9 Điều 3 Luậ...</td>\n      <td>Theo pháp luật Việt Nam, việc bà B tìm cách vu...</td>\n      <td>- Cưỡng ép kết hôn có bị xử phạt không?\\n- Cưỡ...</td>\n      <td>Điều 85. Hạn chế quyền của cha, mẹ đối với con...</td>\n      <td>Điều 9. Đăng ký kết hôn  \\n1. Việc kết hôn phả...</td>\n      <td>Theo Điều 9 của Bộ luật Dân sự của Việt Nam, v...</td>\n    </tr>\n    <tr>\n      <th>3</th>\n      <td>Câu 4. Sau khi kết hôn, vợ chồng tôi sinh được...</td>\n      <td>Trả lời:\\nLuật hôn nhân và gia đình năm 2014 c...</td>\n      <td>Đầu tiên, bạn cần trò chuyện trực tiếp và thẳn...</td>\n      <td>Tóm tắt: Chồng có quan hệ ngoại tình, làm thủ ...</td>\n      <td>Điều 14. Giải quyết hậu quả của việ c nam, nữ ...</td>\n      <td>Điều 16. Giải quyết quan hệ tài sản, nghĩa vụ ...</td>\n      <td>Theo điều 12 của Bộ luật Dân sự Việt Nam, khi ...</td>\n    </tr>\n    <tr>\n      <th>4</th>\n      <td>Câu 5. Tảo hôn và tổ chức tảo hôn là gì? Hành ...</td>\n      <td>Trả lời:\\nTảo hôn là việc lấy vợ, lấy chồng kh...</td>\n      <td>Tảo hôn là hành vi thể hiện tình cảm, tình yêu...</td>\n      <td>Tảo hôn là việc một trong hai bên trong một mố...</td>\n      <td>Điều 58. Hành vi tảo hôn, tổ chức tảo hôn  \\n1...</td>\n      <td>Điều 3. Giải thích từ ngữ  \\n1. Hôn nhân  là q...</td>\n      <td>Theo Điều 5 của Luật Hôn nhân và Gia đình năm ...</td>\n    </tr>\n    <tr>\n      <th>...</th>\n      <td>...</td>\n      <td>...</td>\n      <td>...</td>\n      <td>...</td>\n      <td>...</td>\n      <td>...</td>\n      <td>...</td>\n    </tr>\n    <tr>\n      <th>59</th>\n      <td>Câu 10. Từ năm 2010, quan hệ vợ chồng anh Cao ...</td>\n      <td>Trả lời:\\nTheo quy định tại Khoản 1 Điều 33 Lu...</td>\n      <td>Khi ly hôn, tài sản chung của vợ chồng anh Cao...</td>\n      <td>Tóm tắt: Xác định tài sản chung khi ly hôn, tà...</td>\n      <td>Điều 15. Xác định tài sản của vợ chồng theo th...</td>\n      <td>Điều 15. Xác định tài sản của vợ chồng theo th...</td>\n      <td>Theo Điều 33 của Luật Hôn nhân và gia đình, tà...</td>\n    </tr>\n    <tr>\n      <th>60</th>\n      <td>Câu 11. Năm 1993, mẹ con anh M được giao 02 th...</td>\n      <td>Trả lời:\\nTheo các dữ liệu nêu trên, có thể xá...</td>\n      <td>Theo quy định của pháp luật, tài sản chung của...</td>\n      <td>Tóm tắt: Tài sản chung của vợ chồng, ly hôn và...</td>\n      <td>Điều 62. Chia quyền sử dụng đất của vợ chồng k...</td>\n      <td>Điều 33. Tài sản chung của vợ chồng  \\n1. Tài ...</td>\n      <td>Theo quy định của Luật Hôn nhân và Gia đình số...</td>\n    </tr>\n    <tr>\n      <th>61</th>\n      <td>Câu 12. Vợ chồng tôi kết hôn năm 1998. Năm 200...</td>\n      <td>Trả lời:\\nTheo quy định tại Khoản 1 Điều 33 Lu...</td>\n      <td>Theo luật hôn nhân không có sự sắp xếp khác nà...</td>\n      <td>Tóm tắt: Di chúc trong tài sản chung của vợ ch...</td>\n      <td>Điều 64. Chia tài sản chung của vợ chồng đưa v...</td>\n      <td>Điều 64. Chia tài sản chung của vợ chồng đưa v...</td>\n      <td>Theo Điều 32 của Bộ luật Dân sự số 33/2005/QH1...</td>\n    </tr>\n    <tr>\n      <th>62</th>\n      <td>Câu 13. Năm 2010, vợ chồng tôi có mua 150 m2 đ...</td>\n      <td>Trả lời:\\nTheo quy định của pháp luật thì vợ c...</td>\n      <td>Theo pháp luật Việt Nam, khi ly hôn, tài sản đ...</td>\n      <td>Tóm tắt: Xác định giá trị tài sản khi ly hôn, ...</td>\n      <td>Điều 62. Chia quyền sử dụng đất của vợ chồng k...</td>\n      <td>Điều 47. Thỏa thuận xác lập chế đ ộ tài sản củ...</td>\n      <td>Theo Điều 61 của Luật Hôn nhân và Gia đình số ...</td>\n    </tr>\n    <tr>\n      <th>63</th>\n      <td>Câu 14. Sau khi lấy chồng, tôi nghỉ phụ việc b...</td>\n      <td>Trả lời:\\nTheo quy định của pháp luật thì tài ...</td>\n      <td>Quan điểm của chồng bạn không chính xác. Theo ...</td>\n      <td>Tóm tắt: Chia tài sản khi ly hôn, quyền nuôi c...</td>\n      <td>Điều 81. Việc trông nom, chăm sóc, nuôi dưỡng,...</td>\n      <td>Điều 42. Chia tài sản chung trong thời kỳ hôn ...</td>\n      <td>Theo Luật Hôn nhân và Gia đình nước ta, tài sả...</td>\n    </tr>\n  </tbody>\n</table>\n<p>64 rows × 7 columns</p>\n</div>"
     },
     "execution_count": 10,
     "metadata": {},
     "output_type": "execute_result"
    }
   ],
   "source": [
    "df"
   ],
   "metadata": {
    "collapsed": false,
    "ExecuteTime": {
     "end_time": "2024-05-12T06:34:12.586538100Z",
     "start_time": "2024-05-12T06:34:12.512153700Z"
    }
   },
   "id": "c5d6c96bf5c1dcfc"
  },
  {
   "cell_type": "code",
   "execution_count": 11,
   "outputs": [],
   "source": [
    "with open('./Questions.txt', 'r', encoding=\"utf8\") as f:\n",
    "    content = f.read()\n",
    "    \n",
    "docs = content.split('$')"
   ],
   "metadata": {
    "collapsed": false,
    "ExecuteTime": {
     "end_time": "2024-05-12T06:34:21.701295700Z",
     "start_time": "2024-05-12T06:34:21.660138300Z"
    }
   },
   "id": "eb313681cd5ea5c8"
  },
  {
   "cell_type": "code",
   "execution_count": 12,
   "outputs": [],
   "source": [
    "i = 129"
   ],
   "metadata": {
    "collapsed": false,
    "ExecuteTime": {
     "end_time": "2024-05-12T06:34:28.121136500Z",
     "start_time": "2024-05-12T06:34:28.070182100Z"
    }
   },
   "id": "a4226ddac2f7b6b"
  },
  {
   "cell_type": "code",
   "execution_count": 49,
   "outputs": [
    {
     "data": {
      "text/plain": "139"
     },
     "execution_count": 49,
     "metadata": {},
     "output_type": "execute_result"
    }
   ],
   "source": [
    "i += 2\n",
    "i"
   ],
   "metadata": {
    "collapsed": false,
    "ExecuteTime": {
     "end_time": "2024-05-12T08:55:45.987652300Z",
     "start_time": "2024-05-12T08:55:45.925849500Z"
    }
   },
   "id": "25a08f042237f7e7"
  },
  {
   "cell_type": "code",
   "execution_count": 50,
   "outputs": [],
   "source": [
    "dict = {}\n",
    "dict['question'] = docs[i]\n",
    "dict['answer'] = docs[i + 1]"
   ],
   "metadata": {
    "collapsed": false,
    "ExecuteTime": {
     "end_time": "2024-05-12T08:55:46.284910200Z",
     "start_time": "2024-05-12T08:55:46.257478200Z"
    }
   },
   "id": "40bf27e36e7f59f8"
  },
  {
   "cell_type": "code",
   "execution_count": 51,
   "outputs": [],
   "source": [
    "temp = qa(docs[i])\n",
    "dict['gpt_answer'] = temp[0]\n",
    "dict['summary'] = temp[1]\n",
    "dict['context'] = temp[2]\n",
    "dict['enhanced_context'] = temp[3]\n",
    "dict['enhanced_answer'] = temp[4]"
   ],
   "metadata": {
    "collapsed": false,
    "ExecuteTime": {
     "end_time": "2024-05-12T08:57:49.941501800Z",
     "start_time": "2024-05-12T08:55:46.605269700Z"
    }
   },
   "id": "8525673e09d61c7a"
  },
  {
   "cell_type": "code",
   "execution_count": 52,
   "outputs": [
    {
     "data": {
      "text/plain": "{'question': 'Câu 20. Tháng 5/2005, bố tôi bỏ nhà ra đi không để lại tin tức gì. Đến năm 2012, mẹ tôi tính chuyện kết hôn với bác T nên yêu cầu tuyên bố bố tôi chết, yêu cầu ly hôn và đã được Tòa án chấp nhận. Tài sản của bố tôi được chia theo pháp luật. Vừa qua, qua thông tin từ người thân, chúng tôi đã tìm lại được bố tôi dự định tháng tới chúng tôi sẽ đón ông về chung sống. Quan hệ nhân thân và quan hệ tài sản của bố tôi sẽ được giải quyết như thế nào?\\n',\n 'answer': 'Trả lời:\\nTheo quy định tại Điều 73 Bộ luật Dân sự 2015 thì khi một người bị tuyên bố là đã chết trở về hoặc có tin tức xác thực là người đó còn sống thì theo yêu cầu của người đó hoặc của người có quyền, lợi ích liên quan, Tòa án ra quyết định huỷ bỏ quyết định tuyên bố người đó là đã chết.\\nQuan hệ nhân thân của người bị tuyên bố là đã chết được khôi phục khi Tòa án ra quyết định hủy bỏ quyết định tuyên bố người đó là đã chết, trừ trường hợp sau đây:\\na) Vợ hoặc chồng của người bị tuyên bố là đã chết đã được Tòa án cho ly hôn theo quy định tại Khoản 2 Điều 68 của Bộ luật này thì quyết định cho ly hôn vẫn có hiệu lực pháp luật;\\nb) Vợ hoặc chồng của người bị tuyên bố là đã chết đã kết hôn với người khác thì việc kết hôn đó vẫn có hiệu lực pháp luật.\\nNgười bị tuyên bố là đã chết mà còn sống có quyền yêu cầu những người đã nhận tài sản thừa kế trả lại tài sản, giá trị tài sản hiện còn.\\nTrường hợp người thừa kế của người bị tuyên bố là đã chết biết người này còn sống mà cố tình giấu giếm nhằm hưởng thừa kế thì người đó phải hoàn trả toàn bộ tài sản đã nhận, kể cả hoa lợi, lợi tức; nếu gây thiệt hại thì phải bồi thường.\\nQuan hệ tài sản giữa vợ và chồng được giải quyết theo quy định của Bộ luật dân sự, Luật hôn nhân và gia đình.\\nCũng tại Điều 67 Luật hôn nhân và gia đình năm 2014 quy định rất cụ thể  về quan hệ nhân thân, tài sản khi vợ, chồng bị tuyên bố là đã chết mà trở về. Theo đó:\\n- Về quan hệ nhân thân: Do sau khi được Tòa án quyết định cho ly hôn, mẹ bạn đã kết hôn với người khác nên quan hệ hôn nhân giữa mẹ bạn và ông T có hiệu lực pháp luật, quan hệ hôn nhân giữa bố mẹ bạn đã chấm dứt.\\n- Về quan hệ tài sản:Do hôn nhân giữa bố mẹ bạn không được khôi phục, tài sản có được trước khi quyết định của Tòa án về việc tuyên bố bố bạn là đã chết có hiệu lực đã được chia theo pháp luật nên bố bạn - người bị Tòa án tuyên bố là đã chết nay trở về có quyền yêu cầu những người đã nhận tài sản thừa kế trả lại tài sản, giá trị tài sản hiện còn.\\n',\n 'gpt_answer': 'Trong trường hợp này, quan hệ nhân thân và quan hệ tài sản của bố tôi sẽ cần phải được xem xét và giải quyết một cách cẩn thận. Việc bố tôi đã bỏ nhà ra đi và không để lại tin tức gì có thể gây ra những rắc rối pháp lý khi ông trở lại. \\n\\nVề quan hệ nhân thân, gia đình cần phải gặp gỡ và đàm phán với bố tôi để làm rõ tình hình và xác định lại mối quan hệ trong gia đình. Đây là cơ hội để hiểu rõ hơn về nguyên nhân mà bố tôi đã ra đi, để có thể giải quyết mọi mâu thuẫn và xây dựng lại tình cảm gia đình.\\n\\nVề quan hệ tài sản, việc mẹ tôi đã yêu cầu ly hôn và tài sản của bố tôi đã được chia theo pháp luật là một vấn đề phức tạp. Trong trường hợp này, cần phải tham khảo ý kiến của luật sư để tìm hiểu rõ về quy định pháp luật và xem xét khả năng điều chỉnh lại phân chia tài sản nếu cần thiết.\\n\\nTuy nhiên, quan trọng nhất là gia đình cần phải đặt lợi ích của bố tôi lên hàng đầu và cố gắng tìm ra giải pháp hòa bình và công bằng cho tất cả các bên liên quan. Điều quan trọng là mọi quyết định và hành động đều phải được thực hiện với sự tỉnh táo và tôn trọng giữa các thành viên trong gia đình.',\n 'summary': '1. Tuyên bố bố mất tích, đề nghị ly hôn, chia tài sản theo pháp luật\\n2. Tìm lại bố sau khi tuyên bố mất tích, xác định quan hệ nhân thân và tài sản\\n3. Giải quyết quan hệ nhân thân sau khi tìm lại bố, giải quyết tài sản của bố trước và sau khi chết hiện nay',\n 'context': 'Điều 67. Quan hệ nhân thân, tài sản khi vợ, chồng bị tuyên bố là đã chết mà trở về  \\n1. Khi Tòa án ra quyết định hủy bỏ tuyên bố một ng ười là đã chết mà vợ hoặc chồng của người \\nđó chưa kết hôn với người khác thì quan hệ hôn nhân được khôi phục kể từ thời điểm kết hôn. \\nTrong trường hợp có quyết định cho ly hôn của Tòa án theo quy định tại khoản 2 Điều 56 của \\nLuật này thì quyết định cho ly hôn vẫn có hiệu lực pháp luật. Trong trường hợp vợ, chồng của \\nngười đó đã kết hôn với người khác thì quan hệ hôn nhân được xác lập sau có hiệu lực pháp luật.  \\n2. Quan hệ tài sản của người bị tuyên bố là đã chết trở về với người vợ hoặc chồng được giải \\nquyết  như sau:  \\na) Trong trường hợp  hôn nhân được khôi phục thì quan hệ tài sản được khôi phục kể từ thời điểm \\nquyết định của Tòa án hủy bỏ tuyên bố chồng, vợ là đã chết có hiệu lực. Tài sản do vợ, chồng có \\nđược kể từ thời điểm quyết định của Tòa án về việc tuyê n bố chồng, vợ là đã chết có hiệu lực \\nđến khi quyết định hủy bỏ tuyên bố chồng, vợ đã chết có hiệu lực là tài sản riêng của người đó;  \\nb) Trong trường hợp  hôn nhân không được khôi phục thì tài sản có được trước khi quyết định \\ncủa Tòa án về việc tuyên bố vợ,  chồng là đã chết có hiệu lực mà chưa chia được giải quyết như \\nchia tài sản khi ly hôn.  \\n',\n 'enhanced_context': 'Điều 1. Phạm vi điều chỉnh  \\nLuật này quy định nguyên tắc, điều kiện nuôi con nuôi; thẩm quyền, trình tự, thủ tục giải quyết \\nviệc nuôi con nuôi; quyền, nghĩa vụ của cha mẹ nuôi, con nuôi và cha mẹ đẻ; trách nhiệm của cơ \\nquan, tổ chức trong việc nuôi con nu ôi.  \\nĐiều 56. Ly hôn theo yêu cầu của một bên  \\n1. Khi vợ hoặc chồng yêu cầu ly hôn mà hòa giải tại Tòa án không thành thì Tòa án giả i quyết \\ncho ly hôn nếu có căn cứ  về việc vợ, chồng có hành vi bạo lực gia đình hoặc vi phạm nghiêm \\ntrọng quyền, nghĩa vụ của vợ, chồng làm cho hôn nhân lâm vào tình trạng trầm trọng, đời sống \\nchung không thể kéo dài, mục đích của hôn nhân không đạt được.  \\n2. Trong trường hợp  vợ hoặc chồng của người bị Tòa án tuyên bố mất tích yêu cầu ly hôn thì Tòa \\nán giải quyết cho ly hôn.  \\n3. Trong trường hợp  có yêu cầu ly hôn theo quy định tại khoản 2 Điều 51 của Luật này thì Tòa \\nán giải quyết cho ly hôn nếu có căn cứ về v iệc chồng, vợ có hành vi bạo lực gia đình làm ảnh \\nhưởng nghiêm trọng đến tính mạng, sức khỏe, tinh thần của người kia.  \\nĐiều 50. Thỏa thuận về chế độ tài sản của vợ chồng bị vô hiệu  1. Thỏa thuận về chế độ tài sản của vợ chồng bị Tòa án tuyên bố vô hiệu khi thuộc một trong các \\ntrường hợp sau đây:  \\na) Không tuân thủ điều kiện có hiệu lực của giao dịch được  quy định tại Bộ luật dân sự và các \\nluật khác có liên quan;  \\nb) Vi phạm một trong các quy định tại các điều 29, 30, 31 và 32 của Luật này;  \\nc) Nội dung của thỏa thuận vi phạm nghiêm trọng quyền được cấp dưỡng, quyền được thừa kế và \\nquyền, lợi ích hợp pháp kh ác của cha, mẹ, con và thành viên khác của gia đình.  \\n2. Tòa án nhân dân tối cao chủ trì phối hợp với Viện kiểm sát nhân dân tối cao và Bộ Tư pháp \\nhướng dẫn khoản 1 Điều này.  \\nĐiều 16. Giải quyết quan hệ tài sản, nghĩa vụ và hợp đồng của nam, nữ chung sống với \\nnhau như vợ chồng mà không đăng ký kết hôn  \\n1. Quan hệ tài sản, nghĩa vụ và hợp đồng của nam, nữ chung sống với nhau như vợ chồng mà \\nkhông đăng ký kết hôn được giải quyết theo thỏa thuận giữa các bên; trong trường hợp không có \\nthỏa thuận thì giải quyết theo quy định của Bộ luật dân sự và các quy định  khác của pháp luật có \\nliên quan.  \\n2. Việc giải quyết quan hệ tài sản phải bảo đảm quyền, lợi ích hợp pháp  của phụ nữ và con; công \\nviệc nội trợ và công việc khác có liên quan để duy trì đời sống chung được coi như lao động có \\nthu nhập.  \\nĐiều 59. Nguyên tắc giải quyết tài sản của vợ chồng khi ly hôn  \\n1. Trong trường hợp chế độ tài sản của vợ chồng theo luật định thì việc giải quyết tài sản do các \\nbên thỏa thuận; nếu không thỏa thuận được thì theo yêu cầu của vợ, chồng hoặc của hai  vợ \\nchồng, Tòa án giải quyết theo quy định tại các khoản 2, 3, 4 và 5 Điều này và tại các điều 60, 61, \\n62, 63 và 64 của Luật này.  \\nTrong trường hợp  chế độ tài sản của vợ chồng theo thỏa thuận thì việc giải quyết tài sản khi ly \\nhôn được áp dụng theo thỏa thu ận đó; nếu thỏa thuận không đầy đủ, rõ ràng thì áp dụng quy định \\ntương ứng tại các khoản 2, 3, 4 và 5 Điều này và tại các điều 60, 61, 62, 63 và 64 của Luật này \\nđể giải quyết.  2. Tài sản chung của vợ chồng được chia đôi nhưng có tính đến các yếu tố sau đây : \\na) Hoàn cảnh của gia đình và của vợ, chồng;  \\nb) Công sức đóng góp của vợ, chồng vào việc tạo lập, duy trì và phát triển khối tài sản chung. \\nLao động của vợ, chồng trong gia đình được coi như lao động có thu nhập;  \\nc) Bảo vệ lợi ích chính đáng của mỗi bên t rong sản xuất, kinh doanh và nghề nghiệp để các bên \\ncó điều kiện tiếp tục lao động tạo thu nhập;  \\nd) Lỗi của mỗi bên trong vi phạm quyền, nghĩa vụ của vợ chồng.  \\n3. Tài sản chung của vợ chồng được chia bằng hiện vật, nếu không chia được bằng hiện vật thì \\nchia theo giá trị; bên nào nhận phần tài sản bằng hiện vật có giá trị lớn hơn phần mình được \\nhưởng thì phải thanh toán cho bên kia phần chênh lệch.  \\n4. Tài sản riêng của vợ, chồng thuộc quyền sở hữu của người đó, trừ trường hợp tài sản riêng đã \\nnhập vào tài sả n chung theo quy định của Luật này.  \\nTrong trường hợp có sự sáp nhập, trộn lẫn giữa tài sản riêng với tài sản chung mà vợ, chồng có \\nyêu cầu về chia tài sản thì được thanh toán phần giá trị tài sản của mình đóng góp vào khối tài \\nsản đó, trừ trường hợp vợ chồ ng có thỏa thuận khác.  \\n5. Bảo vệ quyền, lợi ích hợp pháp của vợ, con chưa thành niên, con đã thành niên mất năng lực \\nhành vi dân sự hoặc không có khả năng lao động và không có tài sản để tự nuôi mình.  \\n6. Tòa án nhân dân tối cao chủ trì phối hợp với Viện ki ểm sát nhân dân tối cao và Bộ Tư pháp \\nhướng dẫn Điều này.  \\nĐiều 67. Quan hệ nhân thân, tài sản khi vợ, chồng bị tuyên bố là đã chết mà trở về  \\n1. Khi Tòa án ra quyết định hủy bỏ tuyên bố một ng ười là đã chết mà vợ hoặc chồng của người \\nđó chưa kết hôn với người khác thì quan hệ hôn nhân được khôi phục kể từ thời điểm kết hôn. \\nTrong trường hợp có quyết định cho ly hôn của Tòa án theo quy định tại khoản 2 Điều 56 của \\nLuật này thì quyết định cho ly hôn vẫn có hiệu lực pháp luật. Trong trường hợp vợ, chồng của \\nngười đó đã kết hôn với người khác thì quan hệ hôn nhân được xác lập sau có hiệu lực pháp luật.  \\n2. Quan hệ tài sản của người bị tuyên bố là đã chết trở về với người vợ hoặc chồng được giải \\nquyết  như sau:  \\na) Trong trường hợp  hôn nhân được khôi phục thì quan hệ tài sản được khôi phục kể từ thời điểm \\nquyết định của Tòa án hủy bỏ tuyên bố chồng, vợ là đã chết có hiệu lực. Tài sản do vợ, chồng có \\nđược kể từ thời điểm quyết định của Tòa án về việc tuyê n bố chồng, vợ là đã chết có hiệu lực \\nđến khi quyết định hủy bỏ tuyên bố chồng, vợ đã chết có hiệu lực là tài sản riêng của người đó;  \\nb) Trong trường hợp  hôn nhân không được khôi phục thì tài sản có được trước khi quyết định \\ncủa Tòa án về việc tuyên bố vợ,  chồng là đã chết có hiệu lực mà chưa chia được giải quyết như \\nchia tài sản khi ly hôn.  \\n\\nCâu 20. Tháng 5/2005, bố tôi bỏ nhà ra đi không để lại tin tức gì. Đến năm 2012, mẹ tôi tính chuyện kết hôn với bác T nên yêu cầu tuyên bố bố tôi chết, yêu cầu ly hôn và đã được Tòa án chấp nhận. Tài sản của bố tôi được chia theo pháp luật. Vừa qua, qua thông tin từ người thân, chúng tôi đã tìm lại được bố tôi dự định tháng tới chúng tôi sẽ đón ông về chung sống. Quan hệ nhân thân và quan hệ tài sản của bố tôi sẽ được giải quyết như thế nào?\\n',\n 'enhanced_answer': 'Theo quy định tại Điều 67 của Luật Hôn nhân và Gia đình, khi một người được tuyên bố là đã chết mà sau đó bị hủy bỏ quyết định này, quan hệ hôn nhân và quan hệ tài sản sẽ được giải quyết như sau:\\n\\n1. Quan hệ hôn nhân:\\n- Nếu quyết định cho ly hôn của Tòa án đã được chấp nhận, thì quyết định ly hôn vẫn có hiệu lực pháp luật.\\n- Trường hợp bố của bạn đã kết hôn với người khác sau khi bỏ nhà ra đi, quan hệ hôn nhân giữa bố của bạn và người đó sẽ được xác lập sau khi bố về chung sống với gia đình cũ của mình.\\n\\n2. Quan hệ tài sản:\\n- Nếu quan hệ hôn nhân được khôi phục, quan hệ tài sản sẽ được khôi phục kể từ thời điểm quyết định của Tòa án hủy bỏ tuyên bố bố của bạn là đã chết.\\n- Tài sản của bố của bạn mà chưa được chia sau quyết định yêu cầu ly hôn sẽ được giải quyết như chia tài sản khi ly hôn.\\n\\nDo đó, khi bố của bạn trở về chung sống với gia đình, quan hệ nhân thân và quan hệ tài sản của ông sẽ được giải quyết theo quy định trên để bảo đảm quyền lợi của từng bên và hoà giải mối quan hệ gia đình.'}"
     },
     "execution_count": 52,
     "metadata": {},
     "output_type": "execute_result"
    }
   ],
   "source": [
    "dict"
   ],
   "metadata": {
    "collapsed": false,
    "ExecuteTime": {
     "end_time": "2024-05-12T08:57:49.943502300Z",
     "start_time": "2024-05-12T08:57:49.940507100Z"
    }
   },
   "id": "275d832fdb0a4321"
  },
  {
   "cell_type": "code",
   "execution_count": 53,
   "outputs": [],
   "source": [
    "df = df._append(dict, ignore_index=True)"
   ],
   "metadata": {
    "collapsed": false,
    "ExecuteTime": {
     "end_time": "2024-05-12T08:57:49.981503700Z",
     "start_time": "2024-05-12T08:57:49.941501800Z"
    }
   },
   "id": "cb37c40216c543bf"
  },
  {
   "cell_type": "code",
   "execution_count": 54,
   "outputs": [
    {
     "data": {
      "text/plain": "                                             question  \\\n65  Câu 16. Hai năm gần đây, chồng tôi sinh tật cờ...   \n66  Câu 17. Do mâu thuẫn vợ chồng tôi ngày càng tr...   \n67  Câu 18. Chồng tôi mặc dù vẫn quan tâm, chăm só...   \n68  Câu 19. Ngày 13/6/2013, thuyền cá của chồng tô...   \n69  Câu 20. Tháng 5/2005, bố tôi bỏ nhà ra đi khôn...   \n\n                                               answer  \\\n65  Trả lời: \\nĐiều 51 Luật hôn nhân và gia đình 2...   \n66  Trả lời:\\nTheo quy định tại Điểm c Khoản 2 Điề...   \n67  Trả lời:\\nTheo quy định của pháp luật hôn nhân...   \n68  Trả lời:\\n Theo quy định tại Điểm c Khoản 1 Đi...   \n69  Trả lời:\\nTheo quy định tại Điều 73 Bộ luật Dâ...   \n\n                                           gpt_answer  \\\n65  Theo pháp luật Việt Nam, quyền yêu cầu ly hôn ...   \n66  Khi ly hôn, tài sản chung của vợ chồng sẽ được...   \n67  Có, bạn có thể yêu cầu tòa án cho ly hôn với l...   \n68  Theo pháp luật Việt Nam, trong trường hợp ngườ...   \n69  Trong trường hợp này, quan hệ nhân thân và qua...   \n\n                                              summary  \\\n65  Tóm tắt: Quyền yêu cầu ly hôn, quyền nuôi con ...   \n66  Tóm tắt: Chia tài sản chung khi ly hôn, tài sả...   \n67  Tóm tắt: Nguyên nhân ly hôn do chồng ngoại tìn...   \n68  Tóm tắt: Yêu cầu chia tài sản khi chồng mất tí...   \n69  1. Tuyên bố bố mất tích, đề nghị ly hôn, chia ...   \n\n                                              context  \\\n65  Điều 51. Quyền yêu cầu giải quyết ly hôn  \\n1....   \n66  Điều 1 3. Chiếm hữu, sử dụng, định đoạt tài sả...   \n67  Điều 56. Ly hôn theo yêu cầu của một bên  \\n1....   \n68  Điều 66. Giải quyết tài sản của vợ chồng trong...   \n69  Điều 67. Quan hệ nhân thân, tài sản khi vợ, ch...   \n\n                                     enhanced_context  \\\n65  Điều 51. Quyền yêu cầu giải quyết ly hôn  \\n1....   \n66  Điều 38. Chia tài sản chung trong thời kỳ hôn ...   \n67  Điều 2. Giải thích từ ngữ  \\nTrong Nghị định n...   \n68  Điều 38. Chia tài sản chung trong thời kỳ hôn ...   \n69  Điều 1. Phạm vi điều chỉnh  \\nLuật này quy địn...   \n\n                                      enhanced_answer  \n65  Theo Điều 51 của Bộ luật Hôn nhân và Gia đình ...  \n66  Theo Điều 38 khoản 3 của Luật Hôn nhân và gia ...  \n67  Theo Điều 56 của Luật Hôn nhân và Gia đình số ...  \n68  Trong trường hợp chồng của bạn mất tích sau kh...  \n69  Theo quy định tại Điều 67 của Luật Hôn nhân và...  ",
      "text/html": "<div>\n<style scoped>\n    .dataframe tbody tr th:only-of-type {\n        vertical-align: middle;\n    }\n\n    .dataframe tbody tr th {\n        vertical-align: top;\n    }\n\n    .dataframe thead th {\n        text-align: right;\n    }\n</style>\n<table border=\"1\" class=\"dataframe\">\n  <thead>\n    <tr style=\"text-align: right;\">\n      <th></th>\n      <th>question</th>\n      <th>answer</th>\n      <th>gpt_answer</th>\n      <th>summary</th>\n      <th>context</th>\n      <th>enhanced_context</th>\n      <th>enhanced_answer</th>\n    </tr>\n  </thead>\n  <tbody>\n    <tr>\n      <th>65</th>\n      <td>Câu 16. Hai năm gần đây, chồng tôi sinh tật cờ...</td>\n      <td>Trả lời: \\nĐiều 51 Luật hôn nhân và gia đình 2...</td>\n      <td>Theo pháp luật Việt Nam, quyền yêu cầu ly hôn ...</td>\n      <td>Tóm tắt: Quyền yêu cầu ly hôn, quyền nuôi con ...</td>\n      <td>Điều 51. Quyền yêu cầu giải quyết ly hôn  \\n1....</td>\n      <td>Điều 51. Quyền yêu cầu giải quyết ly hôn  \\n1....</td>\n      <td>Theo Điều 51 của Bộ luật Hôn nhân và Gia đình ...</td>\n    </tr>\n    <tr>\n      <th>66</th>\n      <td>Câu 17. Do mâu thuẫn vợ chồng tôi ngày càng tr...</td>\n      <td>Trả lời:\\nTheo quy định tại Điểm c Khoản 2 Điề...</td>\n      <td>Khi ly hôn, tài sản chung của vợ chồng sẽ được...</td>\n      <td>Tóm tắt: Chia tài sản chung khi ly hôn, tài sả...</td>\n      <td>Điều 1 3. Chiếm hữu, sử dụng, định đoạt tài sả...</td>\n      <td>Điều 38. Chia tài sản chung trong thời kỳ hôn ...</td>\n      <td>Theo Điều 38 khoản 3 của Luật Hôn nhân và gia ...</td>\n    </tr>\n    <tr>\n      <th>67</th>\n      <td>Câu 18. Chồng tôi mặc dù vẫn quan tâm, chăm só...</td>\n      <td>Trả lời:\\nTheo quy định của pháp luật hôn nhân...</td>\n      <td>Có, bạn có thể yêu cầu tòa án cho ly hôn với l...</td>\n      <td>Tóm tắt: Nguyên nhân ly hôn do chồng ngoại tìn...</td>\n      <td>Điều 56. Ly hôn theo yêu cầu của một bên  \\n1....</td>\n      <td>Điều 2. Giải thích từ ngữ  \\nTrong Nghị định n...</td>\n      <td>Theo Điều 56 của Luật Hôn nhân và Gia đình số ...</td>\n    </tr>\n    <tr>\n      <th>68</th>\n      <td>Câu 19. Ngày 13/6/2013, thuyền cá của chồng tô...</td>\n      <td>Trả lời:\\n Theo quy định tại Điểm c Khoản 1 Đi...</td>\n      <td>Theo pháp luật Việt Nam, trong trường hợp ngườ...</td>\n      <td>Tóm tắt: Yêu cầu chia tài sản khi chồng mất tí...</td>\n      <td>Điều 66. Giải quyết tài sản của vợ chồng trong...</td>\n      <td>Điều 38. Chia tài sản chung trong thời kỳ hôn ...</td>\n      <td>Trong trường hợp chồng của bạn mất tích sau kh...</td>\n    </tr>\n    <tr>\n      <th>69</th>\n      <td>Câu 20. Tháng 5/2005, bố tôi bỏ nhà ra đi khôn...</td>\n      <td>Trả lời:\\nTheo quy định tại Điều 73 Bộ luật Dâ...</td>\n      <td>Trong trường hợp này, quan hệ nhân thân và qua...</td>\n      <td>1. Tuyên bố bố mất tích, đề nghị ly hôn, chia ...</td>\n      <td>Điều 67. Quan hệ nhân thân, tài sản khi vợ, ch...</td>\n      <td>Điều 1. Phạm vi điều chỉnh  \\nLuật này quy địn...</td>\n      <td>Theo quy định tại Điều 67 của Luật Hôn nhân và...</td>\n    </tr>\n  </tbody>\n</table>\n</div>"
     },
     "execution_count": 54,
     "metadata": {},
     "output_type": "execute_result"
    }
   ],
   "source": [
    "df.tail(5)"
   ],
   "metadata": {
    "collapsed": false,
    "ExecuteTime": {
     "end_time": "2024-05-12T08:57:50.097502400Z",
     "start_time": "2024-05-12T08:57:49.953504800Z"
    }
   },
   "id": "5ba114f83ed6bd86"
  },
  {
   "cell_type": "code",
   "execution_count": 55,
   "outputs": [],
   "source": [
    "df.to_csv('./result.csv', index=False)"
   ],
   "metadata": {
    "collapsed": false,
    "ExecuteTime": {
     "end_time": "2024-05-12T08:59:12.160834100Z",
     "start_time": "2024-05-12T08:59:12.109160400Z"
    }
   },
   "id": "640f81da5c842bf0"
  },
  {
   "cell_type": "code",
   "execution_count": 1,
   "outputs": [],
   "source": [
    "question = \"Anh J là chồng chị O bị tai nạn giao thông dẫn đến mất năng lực hành vi dân sự. Vừa qua mẹ anh J qua đời (bố anh đã mất trước đó 06 năm), bà để lại di sản thừa kế cho các con gồm quyền sử dụng đất ở và một số tài sản khác. Do không có di chúc nên các con bà tổ chức cuộc họp để chia di sản. Xin hỏi, chị O có được đại diện cho chồng tham gia vào cuộc họp chia di sản của bố mẹ chồng không?\""
   ],
   "metadata": {
    "collapsed": false,
    "ExecuteTime": {
     "end_time": "2024-05-12T18:09:43.393300400Z",
     "start_time": "2024-05-12T18:09:43.377575200Z"
    }
   },
   "id": "9ae5e9a3e7988a6c"
  },
  {
   "cell_type": "code",
   "execution_count": 13,
   "outputs": [],
   "source": [
    "res = qa(question)"
   ],
   "metadata": {
    "collapsed": false,
    "ExecuteTime": {
     "end_time": "2024-05-12T18:20:18.582298700Z",
     "start_time": "2024-05-12T18:19:44.017569700Z"
    }
   },
   "id": "182f67054fa3fb74"
  },
  {
   "cell_type": "code",
   "execution_count": 14,
   "outputs": [
    {
     "data": {
      "text/plain": "'Theo Điều 73 của Bộ luật Dân sự Việt Nam, cha hoặc mẹ là người có thể đại diện theo pháp luật của con đã thành niên mất năng lực hành vi dân sự. Trong trường hợp chồng của chị O đã mất năng lực hành vi dân sự sau tai nạn giao thông, chị O có thể đại diện cho chồng tham gia vào cuộc họp chia di sản của bố mẹ chồng. Tuy nhiên, chị O cần phải chứng minh mình là người đại diện hợp pháp của chồng trước khi được chấp thuận tham gia vào việc chia di sản.'"
     },
     "execution_count": 14,
     "metadata": {},
     "output_type": "execute_result"
    }
   ],
   "source": [
    "res[4]"
   ],
   "metadata": {
    "collapsed": false,
    "ExecuteTime": {
     "end_time": "2024-05-12T18:20:18.660394400Z",
     "start_time": "2024-05-12T18:20:18.597802Z"
    }
   },
   "id": "2db42f454140f651"
  },
  {
   "cell_type": "code",
   "execution_count": null,
   "outputs": [],
   "source": [],
   "metadata": {
    "collapsed": false
   },
   "id": "fc38c1fde735884a"
  }
 ],
 "metadata": {
  "kernelspec": {
   "display_name": "Python 3",
   "language": "python",
   "name": "python3"
  },
  "language_info": {
   "codemirror_mode": {
    "name": "ipython",
    "version": 2
   },
   "file_extension": ".py",
   "mimetype": "text/x-python",
   "name": "python",
   "nbconvert_exporter": "python",
   "pygments_lexer": "ipython2",
   "version": "2.7.6"
  }
 },
 "nbformat": 4,
 "nbformat_minor": 5
}
